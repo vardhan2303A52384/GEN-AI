{
  "nbformat": 4,
  "nbformat_minor": 0,
  "metadata": {
    "colab": {
      "provenance": [],
      "authorship_tag": "ABX9TyPCQY2pORHmJZ7KvT4jfjnC",
      "include_colab_link": true
    },
    "kernelspec": {
      "name": "python3",
      "display_name": "Python 3"
    },
    "language_info": {
      "name": "python"
    }
  },
  "cells": [
    {
      "cell_type": "markdown",
      "metadata": {
        "id": "view-in-github",
        "colab_type": "text"
      },
      "source": [
        "<a href=\"https://colab.research.google.com/github/vardhan2303A52384/GEN-AI/blob/main/GEN_AI_LAB_1.ipynb\" target=\"_parent\"><img src=\"https://colab.research.google.com/assets/colab-badge.svg\" alt=\"Open In Colab\"/></a>"
      ]
    },
    {
      "cell_type": "code",
      "execution_count": 1,
      "metadata": {
        "colab": {
          "base_uri": "https://localhost:8080/"
        },
        "id": "KQ-ez01wLzfl",
        "outputId": "8c116f69-3d2b-4ab5-a6cb-f8d56a6578f4"
      },
      "outputs": [
        {
          "output_type": "stream",
          "name": "stdout",
          "text": [
            "Using NumPy - MAE: 0.4600000000000016 MSE: 0.24600000000000147 RMSE: 0.49598387070549127\n"
          ]
        }
      ],
      "source": [
        "import numpy as np\n",
        "\n",
        "# Data\n",
        "y_actual = np.array([20, 30, 40, 50, 60])\n",
        "y_pred = np.array([20.5, 30.3, 40.2, 50.6, 60.7])\n",
        "\n",
        "# Compute Error Metrics with NumPy\n",
        "mae = np.mean(np.abs(y_actual - y_pred))  # Mean Absolute Error\n",
        "mse = np.mean((y_actual - y_pred)**2)    # Mean Squared Error\n",
        "rmse = np.sqrt(mse)                      # Root Mean Squared Error\n",
        "\n",
        "print(\"Using NumPy - MAE:\", mae, \"MSE:\", mse, \"RMSE:\", rmse)\n"
      ]
    },
    {
      "cell_type": "code",
      "source": [
        "# Data\n",
        "y_actual = np.array([0, 1, 2, 0, 1, 0, 2, 2, 2, 2])\n",
        "y_pred = np.array([0, 1, 0, 0, 0, 1, 2, 1, 2, 2])\n",
        "\n",
        "# Confusion Matrix\n",
        "n_classes = len(np.unique(y_actual))  # Number of classes\n",
        "confusion_matrix = np.zeros((n_classes, n_classes), dtype=int)\n",
        "\n",
        "for a, p in zip(y_actual, y_pred):\n",
        "    confusion_matrix[a, p] += 1\n",
        "\n",
        "    # Metrics\n",
        "    correct = np.trace(confusion_matrix)  # Sum of diagonal (true positives)\n",
        "    total = np.sum(confusion_matrix)      # Total predictions\n",
        "    accuracy = correct / total            # Accuracy\n",
        "\n",
        "    precisions = []\n",
        "    recalls = []\n",
        "    f1_scores = []\n",
        "\n",
        "    for i in range(n_classes):\n",
        "        tp = confusion_matrix[i, i]\n",
        "        fp = np.sum(confusion_matrix[:, i]) - tp\n",
        "        fn = np.sum(confusion_matrix[i, :]) - tp\n",
        "\n",
        "        precision = tp / (tp + fp) if (tp + fp) > 0 else 0\n",
        "        recall = tp / (tp + fn) if (tp + fn) > 0 else 0\n",
        "        f1 = 2 * precision * recall / (precision + recall) if (precision + recall) > 0 else 0\n",
        "\n",
        "        precisions.append(precision)\n",
        "        recalls.append(recall)\n",
        "        f1_scores.append(f1)\n",
        "print(\"Using NumPy - Accuracy:\", accuracy)\n",
        "print(\"Precisions:\", precisions)\n",
        "print(\"Recalls:\", recalls)\n",
        "print(\"F1-Scores:\", f1_scores)\n",
        "\n",
        "\n",
        "\n"
      ],
      "metadata": {
        "colab": {
          "base_uri": "https://localhost:8080/"
        },
        "id": "GSKQaoepMTyA",
        "outputId": "34a00afe-2be6-4c40-a0f8-050351f4af9e"
      },
      "execution_count": 4,
      "outputs": [
        {
          "output_type": "stream",
          "name": "stdout",
          "text": [
            "Using NumPy - Accuracy: 0.6\n",
            "Precisions: [0.5, 0.3333333333333333, 1.0]\n",
            "Recalls: [0.6666666666666666, 0.5, 0.6]\n",
            "F1-Scores: [0.5714285714285715, 0.4, 0.7499999999999999]\n"
          ]
        }
      ]
    }
  ]
}