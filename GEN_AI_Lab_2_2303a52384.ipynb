{
  "nbformat": 4,
  "nbformat_minor": 0,
  "metadata": {
    "colab": {
      "provenance": [],
      "authorship_tag": "ABX9TyPCY7X43xmx83HV4mJfuP/v",
      "include_colab_link": true
    },
    "kernelspec": {
      "name": "python3",
      "display_name": "Python 3"
    },
    "language_info": {
      "name": "python"
    }
  },
  "cells": [
    {
      "cell_type": "markdown",
      "metadata": {
        "id": "view-in-github",
        "colab_type": "text"
      },
      "source": [
        "<a href=\"https://colab.research.google.com/github/vardhan2303A52384/GEN-AI/blob/main/GEN_AI_Lab_2_2303a52384.ipynb\" target=\"_parent\"><img src=\"https://colab.research.google.com/assets/colab-badge.svg\" alt=\"Open In Colab\"/></a>"
      ]
    },
    {
      "cell_type": "code",
      "execution_count": 4,
      "metadata": {
        "colab": {
          "base_uri": "https://localhost:8080/"
        },
        "id": "t9CPTZMDOT8x",
        "outputId": "6bd184ce-3c29-47c0-8c6a-9f76d0c06268"
      },
      "outputs": [
        {
          "output_type": "stream",
          "name": "stdout",
          "text": [
            "Optimal solution: A = 2.00, B = 3.00\n",
            "Maximum Profit: Rs 27.00\n"
          ]
        }
      ],
      "source": [
        "from scipy.optimize import linprog\n",
        "\n",
        "# Coefficients of the objective function (maximize 6x + 5y → minimize -6x -5y)\n",
        "c = [-6, -5]\n",
        "\n",
        "# Coefficients of inequality constraints (Ax ≤ b)\n",
        "A = [[1, 1],   # Milk constraint: x + y ≤ 5\n",
        "     [3, 2]]   # Choco constraint: 3x + 2y ≤ 12\n",
        "\n",
        "b = [5, 12]\n",
        "\n",
        "# Bounds for variables (x ≥ 0, y ≥ 0)\n",
        "x_bounds = (0, None)\n",
        "y_bounds = (0, None)\n",
        "\n",
        "# Solve the linear program\n",
        "res = linprog(c, A_ub=A, b_ub=b, bounds=[x_bounds, y_bounds], method=\"highs\")\n",
        "\n",
        "# Display results\n",
        "if res.success:\n",
        "    print(f\"Optimal solution: A = {res.x[0]:.2f}, B = {res.x[1]:.2f}\")\n",
        "    print(f\"Maximum Profit: Rs {abs(res.fun):.2f}\")\n",
        "else:\n",
        "    print(\"No feasible solution found.\")"
      ]
    },
    {
      "cell_type": "code",
      "source": [
        "from scipy.optimize import linprog\n",
        "\n",
        "# Coefficients of the objective function (maximize 50x + 120y → minimize -50x -120y)\n",
        "c = [-50, -120]\n",
        "\n",
        "# Coefficients of inequality constraints (Ax ≤ b)\n",
        "A = [[1, 1],      # Land constraint: x + y ≤ 110\n",
        "     [7000, 2000], # Budget constraint: 7000x + 2000y ≤ 700000\n",
        "     [10, 30]]    # Labor constraint: 10x + 30y ≤ 1200\n",
        "\n",
        "b = [110, 700000, 1200]\n",
        "\n",
        "# Bounds for variables (x ≥ 0, y ≥ 0)\n",
        "x_bounds = (0, None)\n",
        "y_bounds = (0, None)\n",
        "\n",
        "# Solve the linear program\n",
        "res = linprog(c, A_ub=A, b_ub=b, bounds=[x_bounds, y_bounds], method=\"highs\")\n",
        "\n",
        "# Display results\n",
        "if res.success:\n",
        "     print(f\"Optimal solution: Wheat = {res.x[0]:.2f} hectares, Barley = {res.x[1]:.2f} hectares\")\n",
        "     print(f\"Maximum Profit: Rs {abs(res.fun):.2f}\")\n",
        "else:\n",
        "     print(\"No feasible solution found.\")"
      ],
      "metadata": {
        "colab": {
          "base_uri": "https://localhost:8080/"
        },
        "id": "HrXZxFIIPCqv",
        "outputId": "4e878fca-3b3e-4978-9d0a-c4fc7c3794eb"
      },
      "execution_count": 5,
      "outputs": [
        {
          "output_type": "stream",
          "name": "stdout",
          "text": [
            "Optimal solution: Wheat = 97.89 hectares, Barley = 7.37 hectares\n",
            "Maximum Profit: Rs 5778.95\n"
          ]
        }
      ]
    }
  ]
}