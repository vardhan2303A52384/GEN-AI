{
  "nbformat": 4,
  "nbformat_minor": 0,
  "metadata": {
    "colab": {
      "provenance": [],
      "authorship_tag": "ABX9TyOoeZ3pUKjyv0TPuYepg+gx",
      "include_colab_link": true
    },
    "kernelspec": {
      "name": "python3",
      "display_name": "Python 3"
    },
    "language_info": {
      "name": "python"
    }
  },
  "cells": [
    {
      "cell_type": "markdown",
      "metadata": {
        "id": "view-in-github",
        "colab_type": "text"
      },
      "source": [
        "<a href=\"https://colab.research.google.com/github/vardhan2303A52384/GEN-AI/blob/main/Gen_AI_lab_3_ass_2303a52384.ipynb\" target=\"_parent\"><img src=\"https://colab.research.google.com/assets/colab-badge.svg\" alt=\"Open In Colab\"/></a>"
      ]
    },
    {
      "cell_type": "code",
      "execution_count": 2,
      "metadata": {
        "colab": {
          "base_uri": "https://localhost:8080/"
        },
        "id": "CJlN1w8KB2Hx",
        "outputId": "0104870b-d35f-45cd-f1cb-dce88962a1da"
      },
      "outputs": [
        {
          "output_type": "stream",
          "name": "stdout",
          "text": [
            "Min x for f(x): 0.0\n"
          ]
        }
      ],
      "source": [
        "import numpy as np\n",
        "\n",
        "def grad_desc_f1_np(lr=0.01, iters=1000):\n",
        "    x = 0.0\n",
        "    for _ in range(iters):\n",
        "         grad = 20 * x**3 + 6 * x\n",
        "         x -= lr * grad\n",
        "    return x\n",
        "\n",
        "print(\"Min x for f(x):\", grad_desc_f1_np())"
      ]
    },
    {
      "cell_type": "code",
      "source": [
        "import numpy as np\n",
        "\n",
        "def grad_desc_f2_np(lr=0.01, iters=1000):\n",
        "    x, y = 0.0, 0.0  # Initialize x and y\n",
        "    for _ in range(iters):\n",
        "        grad_x = 6 * x  # Partial derivative w.r.t x\n",
        "        grad_y = -5 * np.exp(-y)  # Partial derivative w.r.t y\n",
        "        x -= lr * grad_x\n",
        "        y -= lr * grad_y\n",
        "    return x, y\n",
        "\n",
        "print(\"Min x, y for g(x, y):\", grad_desc_f2_np())"
      ],
      "metadata": {
        "colab": {
          "base_uri": "https://localhost:8080/"
        },
        "id": "3UZ6ku5VFDIY",
        "outputId": "6df72a79-4454-4902-d34a-97c1a13180c3"
      },
      "execution_count": 3,
      "outputs": [
        {
          "output_type": "stream",
          "name": "stdout",
          "text": [
            "Min x, y for g(x, y): (0.0, 3.9337602416246904)\n"
          ]
        }
      ]
    },
    {
      "cell_type": "code",
      "source": [
        "import numpy as np\n",
        "\n",
        "def grad_desc_f3_np(lr=0.01, iters=1000):\n",
        "    x = 0.0  # Initialize x\n",
        "    for _ in range(iters):\n",
        "        grad = np.exp(-x) / (1 + np.exp(-x))**2  # Derivative of sigmoid function\n",
        "        x -= lr * grad\n",
        "    return x\n",
        "\n",
        "print(\"Min x for z(x):\", grad_desc_f3_np())"
      ],
      "metadata": {
        "colab": {
          "base_uri": "https://localhost:8080/"
        },
        "id": "drdoXUDEFpEq",
        "outputId": "b49c638a-1931-480a-95ca-87812cebaee0"
      },
      "execution_count": 5,
      "outputs": [
        {
          "output_type": "stream",
          "name": "stdout",
          "text": [
            "Min x for z(x): -1.8618354629020137\n"
          ]
        }
      ]
    },
    {
      "cell_type": "code",
      "source": [
        "import numpy as np\n",
        "\n",
        "def grad_desc_f4_np(expected, inputs, lr=0.01, iters=1000):\n",
        "    M, C = 0.0, 0.0  # Initialize parameters\n",
        "    inputs = np.array(inputs)\n",
        "    expected = np.array(expected)\n",
        "    n = len(inputs)\n",
        "\n",
        "    for _ in range(iters):\n",
        "        predicted = M * inputs + C  # Predicted outputs\n",
        "        errors = expected - predicted  # Error terms\n",
        "        grad_M = -2 * np.sum(errors * inputs) / n  # Gradient w.r.t M\n",
        "        grad_C = -2 * np.sum(errors) / n  # Gradient w.r.t C\n",
        "        M -= lr * grad_M  # Update M\n",
        "        C -= lr * grad_C  # Update C\n",
        "\n",
        "    return M, C\n",
        "\n",
        " # Example usage\n",
        "expected = [2, 4, 6]  # Expected outputs\n",
        "inputs = [1, 2, 3]  # Input values\n",
        "optimal_M, optimal_C = grad_desc_f4_np(expected, inputs)\n",
        "print(\"Optimal M, C:\", optimal_M, optimal_C)"
      ],
      "metadata": {
        "colab": {
          "base_uri": "https://localhost:8080/"
        },
        "id": "O7ruD44nGLOh",
        "outputId": "df8c3d8d-0906-4a0a-ba51-0013e15e176e"
      },
      "execution_count": 11,
      "outputs": [
        {
          "output_type": "stream",
          "name": "stdout",
          "text": [
            "Optimal M, C: 1.97078250602932 0.06641823135781669\n"
          ]
        }
      ]
    }
  ]
}